{
  "cells": [
    {
      "cell_type": "markdown",
      "id": "ecbef93a",
      "metadata": {
        "id": "ecbef93a"
      },
      "source": [
        "# Práctica 1 – Implementación de un Perceptrón Multicapa (MLP)\n",
        "## Clasificación de Diabetes – Kaggle Dataset\n",
        "**Fecha de entrega:** 06/08/2025\n",
        "**Autores:** Grupo 1 Noelia Blanco - Maria Eugenia Puchkariov - Gonzalo Del Priore\n",
        "**Materia:** Ciencia de Datos / DEEP LEARNING\n",
        "**Institución:** Universidad de Montevideo"
      ]
    },
    {
      "cell_type": "markdown",
      "id": "79d9f1f0",
      "metadata": {
        "id": "79d9f1f0"
      },
      "source": [
        "## 1. Resumen del problema\n",
        "El objetivo de esta práctica es implementar un modelo de red neuronal de tipo Perceptrón Multicapa (MLP), aplicado a un problema de clasificación binaria sobre el diagnóstico de diabetes. Se utilizará el dataset proporcionado por Kaggle (Instituto Nacional de Diabetes y Enfermedades Digestivas y Renales). Este conjunto de datos incluye variables clínicas de pacientes mujeres de ascendencia Pima, con el objetivo de predecir si presentan diabetes en base a medidas diagnósticas.\n",
        "\n",
        "Se evaluarán distintas implementaciones del MLP utilizando tanto `scikit-learn` como `Keras`, analizando su precisión, comportamiento y capacidad de generalización sobre el conjunto de test."
      ]
    },
    {
      "cell_type": "markdown",
      "id": "d843fe75",
      "metadata": {
        "id": "d843fe75"
      },
      "source": [
        "## 2. Transformación del problema\n",
        "Este problema puede ser abordado como una tarea de clasificación binaria, donde la variable objetivo es si la paciente tiene diabetes (`Outcome`: 0 o 1). El objetivo es construir un modelo de red neuronal capaz de aprender patrones complejos no lineales a partir de las variables de entrada, y predecir correctamente la presencia de diabetes. Para ello, se transforma el problema en una función que mapea las variables clínicas a la probabilidad de un diagnóstico positivo."
      ]
    },
    {
      "cell_type": "markdown",
      "id": "57545bb2",
      "metadata": {
        "id": "57545bb2"
      },
      "source": [
        "## 3. Descripción del dataset\n",
        "El dataset está disponible en Kaggle bajo el título *Diabetes Dataset* y contiene 768 registros de pacientes femeninas de ascendencia Pima, mayores de 21 años. Incluye 8 variables de entrada y 1 variable objetivo binaria.\n",
        "\n",
        "**Atributos:**\n",
        "- `Pregnancies`: Número de embarazos\n",
        "- `Glucose`: Concentración de glucosa en plasma a las 2h\n",
        "- `BloodPressure`: Presión arterial diastólica (mm Hg)\n",
        "- `SkinThickness`: Espesor del pliegue cutáneo del tríceps (mm)\n",
        "- `Insulin`: Insulina sérica a las 2h (mu U/ml)\n",
        "- `BMI`: Índice de masa corporal (peso/altura²)\n",
        "- `DiabetesPedigreeFunction`: Función de pedigrí de diabetes\n",
        "- `Age`: Edad (años)\n",
        "- `Outcome`: 1 si tiene diabetes, 0 en caso contrario"
      ]
    },
    {
      "cell_type": "markdown",
      "id": "cad3faba",
      "metadata": {
        "id": "cad3faba"
      },
      "source": [
        "## 4. Preparación y división de los datos\n",
        "A continuación se realiza la carga del dataset, inspección básica y limpieza inicial. Se identifican valores nulos o inválidos (valores igual a 0 en variables clínicas), y se procede a dividir el dataset en conjunto de entrenamiento y prueba (80%-20%). Luego, se normalizan los datos utilizando `StandardScaler`.\n",
        "\n",
        "Se observa que algunas columnas contienen valores 0 imposibles o poco realistas (por ejemplo, presión arterial = 0), lo que se considera como faltante implícito."
      ]
    },
    {
      "cell_type": "code",
      "execution_count": null,
      "id": "7b2c1d99",
      "metadata": {
        "colab": {
          "base_uri": "https://localhost:8080/",
          "height": 206
        },
        "id": "7b2c1d99",
        "outputId": "52ec1391-d11a-4c92-b880-cad9b15fac87"
      },
      "outputs": [
        {
          "data": {
            "application/vnd.google.colaboratory.intrinsic+json": {
              "summary": "{\n  \"name\": \"df\",\n  \"rows\": 768,\n  \"fields\": [\n    {\n      \"column\": \"Pregnancies\",\n      \"properties\": {\n        \"dtype\": \"number\",\n        \"std\": 3,\n        \"min\": 0,\n        \"max\": 17,\n        \"num_unique_values\": 17,\n        \"samples\": [\n          6,\n          1,\n          3\n        ],\n        \"semantic_type\": \"\",\n        \"description\": \"\"\n      }\n    },\n    {\n      \"column\": \"Glucose\",\n      \"properties\": {\n        \"dtype\": \"number\",\n        \"std\": 31,\n        \"min\": 0,\n        \"max\": 199,\n        \"num_unique_values\": 136,\n        \"samples\": [\n          151,\n          101,\n          112\n        ],\n        \"semantic_type\": \"\",\n        \"description\": \"\"\n      }\n    },\n    {\n      \"column\": \"BloodPressure\",\n      \"properties\": {\n        \"dtype\": \"number\",\n        \"std\": 19,\n        \"min\": 0,\n        \"max\": 122,\n        \"num_unique_values\": 47,\n        \"samples\": [\n          86,\n          46,\n          85\n        ],\n        \"semantic_type\": \"\",\n        \"description\": \"\"\n      }\n    },\n    {\n      \"column\": \"SkinThickness\",\n      \"properties\": {\n        \"dtype\": \"number\",\n        \"std\": 15,\n        \"min\": 0,\n        \"max\": 99,\n        \"num_unique_values\": 51,\n        \"samples\": [\n          7,\n          12,\n          48\n        ],\n        \"semantic_type\": \"\",\n        \"description\": \"\"\n      }\n    },\n    {\n      \"column\": \"Insulin\",\n      \"properties\": {\n        \"dtype\": \"number\",\n        \"std\": 115,\n        \"min\": 0,\n        \"max\": 846,\n        \"num_unique_values\": 186,\n        \"samples\": [\n          52,\n          41,\n          183\n        ],\n        \"semantic_type\": \"\",\n        \"description\": \"\"\n      }\n    },\n    {\n      \"column\": \"BMI\",\n      \"properties\": {\n        \"dtype\": \"number\",\n        \"std\": 7.8841603203754405,\n        \"min\": 0.0,\n        \"max\": 67.1,\n        \"num_unique_values\": 248,\n        \"samples\": [\n          19.9,\n          31.0,\n          38.1\n        ],\n        \"semantic_type\": \"\",\n        \"description\": \"\"\n      }\n    },\n    {\n      \"column\": \"DiabetesPedigreeFunction\",\n      \"properties\": {\n        \"dtype\": \"number\",\n        \"std\": 0.33132859501277484,\n        \"min\": 0.078,\n        \"max\": 2.42,\n        \"num_unique_values\": 517,\n        \"samples\": [\n          1.731,\n          0.426,\n          0.138\n        ],\n        \"semantic_type\": \"\",\n        \"description\": \"\"\n      }\n    },\n    {\n      \"column\": \"Age\",\n      \"properties\": {\n        \"dtype\": \"number\",\n        \"std\": 11,\n        \"min\": 21,\n        \"max\": 81,\n        \"num_unique_values\": 52,\n        \"samples\": [\n          60,\n          47,\n          72\n        ],\n        \"semantic_type\": \"\",\n        \"description\": \"\"\n      }\n    },\n    {\n      \"column\": \"Outcome\",\n      \"properties\": {\n        \"dtype\": \"number\",\n        \"std\": 0,\n        \"min\": 0,\n        \"max\": 1,\n        \"num_unique_values\": 2,\n        \"samples\": [\n          0,\n          1\n        ],\n        \"semantic_type\": \"\",\n        \"description\": \"\"\n      }\n    }\n  ]\n}",
              "type": "dataframe",
              "variable_name": "df"
            },
            "text/html": [
              "\n",
              "  <div id=\"df-fe79cfb3-1bdd-4fec-acaf-9b6aedcc62a8\" class=\"colab-df-container\">\n",
              "    <div>\n",
              "<style scoped>\n",
              "    .dataframe tbody tr th:only-of-type {\n",
              "        vertical-align: middle;\n",
              "    }\n",
              "\n",
              "    .dataframe tbody tr th {\n",
              "        vertical-align: top;\n",
              "    }\n",
              "\n",
              "    .dataframe thead th {\n",
              "        text-align: right;\n",
              "    }\n",
              "</style>\n",
              "<table border=\"1\" class=\"dataframe\">\n",
              "  <thead>\n",
              "    <tr style=\"text-align: right;\">\n",
              "      <th></th>\n",
              "      <th>Pregnancies</th>\n",
              "      <th>Glucose</th>\n",
              "      <th>BloodPressure</th>\n",
              "      <th>SkinThickness</th>\n",
              "      <th>Insulin</th>\n",
              "      <th>BMI</th>\n",
              "      <th>DiabetesPedigreeFunction</th>\n",
              "      <th>Age</th>\n",
              "      <th>Outcome</th>\n",
              "    </tr>\n",
              "  </thead>\n",
              "  <tbody>\n",
              "    <tr>\n",
              "      <th>0</th>\n",
              "      <td>6</td>\n",
              "      <td>148</td>\n",
              "      <td>72</td>\n",
              "      <td>35</td>\n",
              "      <td>0</td>\n",
              "      <td>33.6</td>\n",
              "      <td>0.627</td>\n",
              "      <td>50</td>\n",
              "      <td>1</td>\n",
              "    </tr>\n",
              "    <tr>\n",
              "      <th>1</th>\n",
              "      <td>1</td>\n",
              "      <td>85</td>\n",
              "      <td>66</td>\n",
              "      <td>29</td>\n",
              "      <td>0</td>\n",
              "      <td>26.6</td>\n",
              "      <td>0.351</td>\n",
              "      <td>31</td>\n",
              "      <td>0</td>\n",
              "    </tr>\n",
              "    <tr>\n",
              "      <th>2</th>\n",
              "      <td>8</td>\n",
              "      <td>183</td>\n",
              "      <td>64</td>\n",
              "      <td>0</td>\n",
              "      <td>0</td>\n",
              "      <td>23.3</td>\n",
              "      <td>0.672</td>\n",
              "      <td>32</td>\n",
              "      <td>1</td>\n",
              "    </tr>\n",
              "    <tr>\n",
              "      <th>3</th>\n",
              "      <td>1</td>\n",
              "      <td>89</td>\n",
              "      <td>66</td>\n",
              "      <td>23</td>\n",
              "      <td>94</td>\n",
              "      <td>28.1</td>\n",
              "      <td>0.167</td>\n",
              "      <td>21</td>\n",
              "      <td>0</td>\n",
              "    </tr>\n",
              "    <tr>\n",
              "      <th>4</th>\n",
              "      <td>0</td>\n",
              "      <td>137</td>\n",
              "      <td>40</td>\n",
              "      <td>35</td>\n",
              "      <td>168</td>\n",
              "      <td>43.1</td>\n",
              "      <td>2.288</td>\n",
              "      <td>33</td>\n",
              "      <td>1</td>\n",
              "    </tr>\n",
              "  </tbody>\n",
              "</table>\n",
              "</div>\n",
              "    <div class=\"colab-df-buttons\">\n",
              "\n",
              "  <div class=\"colab-df-container\">\n",
              "    <button class=\"colab-df-convert\" onclick=\"convertToInteractive('df-fe79cfb3-1bdd-4fec-acaf-9b6aedcc62a8')\"\n",
              "            title=\"Convert this dataframe to an interactive table.\"\n",
              "            style=\"display:none;\">\n",
              "\n",
              "  <svg xmlns=\"http://www.w3.org/2000/svg\" height=\"24px\" viewBox=\"0 -960 960 960\">\n",
              "    <path d=\"M120-120v-720h720v720H120Zm60-500h600v-160H180v160Zm220 220h160v-160H400v160Zm0 220h160v-160H400v160ZM180-400h160v-160H180v160Zm440 0h160v-160H620v160ZM180-180h160v-160H180v160Zm440 0h160v-160H620v160Z\"/>\n",
              "  </svg>\n",
              "    </button>\n",
              "\n",
              "  <style>\n",
              "    .colab-df-container {\n",
              "      display:flex;\n",
              "      gap: 12px;\n",
              "    }\n",
              "\n",
              "    .colab-df-convert {\n",
              "      background-color: #E8F0FE;\n",
              "      border: none;\n",
              "      border-radius: 50%;\n",
              "      cursor: pointer;\n",
              "      display: none;\n",
              "      fill: #1967D2;\n",
              "      height: 32px;\n",
              "      padding: 0 0 0 0;\n",
              "      width: 32px;\n",
              "    }\n",
              "\n",
              "    .colab-df-convert:hover {\n",
              "      background-color: #E2EBFA;\n",
              "      box-shadow: 0px 1px 2px rgba(60, 64, 67, 0.3), 0px 1px 3px 1px rgba(60, 64, 67, 0.15);\n",
              "      fill: #174EA6;\n",
              "    }\n",
              "\n",
              "    .colab-df-buttons div {\n",
              "      margin-bottom: 4px;\n",
              "    }\n",
              "\n",
              "    [theme=dark] .colab-df-convert {\n",
              "      background-color: #3B4455;\n",
              "      fill: #D2E3FC;\n",
              "    }\n",
              "\n",
              "    [theme=dark] .colab-df-convert:hover {\n",
              "      background-color: #434B5C;\n",
              "      box-shadow: 0px 1px 3px 1px rgba(0, 0, 0, 0.15);\n",
              "      filter: drop-shadow(0px 1px 2px rgba(0, 0, 0, 0.3));\n",
              "      fill: #FFFFFF;\n",
              "    }\n",
              "  </style>\n",
              "\n",
              "    <script>\n",
              "      const buttonEl =\n",
              "        document.querySelector('#df-fe79cfb3-1bdd-4fec-acaf-9b6aedcc62a8 button.colab-df-convert');\n",
              "      buttonEl.style.display =\n",
              "        google.colab.kernel.accessAllowed ? 'block' : 'none';\n",
              "\n",
              "      async function convertToInteractive(key) {\n",
              "        const element = document.querySelector('#df-fe79cfb3-1bdd-4fec-acaf-9b6aedcc62a8');\n",
              "        const dataTable =\n",
              "          await google.colab.kernel.invokeFunction('convertToInteractive',\n",
              "                                                    [key], {});\n",
              "        if (!dataTable) return;\n",
              "\n",
              "        const docLinkHtml = 'Like what you see? Visit the ' +\n",
              "          '<a target=\"_blank\" href=https://colab.research.google.com/notebooks/data_table.ipynb>data table notebook</a>'\n",
              "          + ' to learn more about interactive tables.';\n",
              "        element.innerHTML = '';\n",
              "        dataTable['output_type'] = 'display_data';\n",
              "        await google.colab.output.renderOutput(dataTable, element);\n",
              "        const docLink = document.createElement('div');\n",
              "        docLink.innerHTML = docLinkHtml;\n",
              "        element.appendChild(docLink);\n",
              "      }\n",
              "    </script>\n",
              "  </div>\n",
              "\n",
              "\n",
              "    <div id=\"df-685e0208-6114-4a3a-947a-23902329d7bc\">\n",
              "      <button class=\"colab-df-quickchart\" onclick=\"quickchart('df-685e0208-6114-4a3a-947a-23902329d7bc')\"\n",
              "                title=\"Suggest charts\"\n",
              "                style=\"display:none;\">\n",
              "\n",
              "<svg xmlns=\"http://www.w3.org/2000/svg\" height=\"24px\"viewBox=\"0 0 24 24\"\n",
              "     width=\"24px\">\n",
              "    <g>\n",
              "        <path d=\"M19 3H5c-1.1 0-2 .9-2 2v14c0 1.1.9 2 2 2h14c1.1 0 2-.9 2-2V5c0-1.1-.9-2-2-2zM9 17H7v-7h2v7zm4 0h-2V7h2v10zm4 0h-2v-4h2v4z\"/>\n",
              "    </g>\n",
              "</svg>\n",
              "      </button>\n",
              "\n",
              "<style>\n",
              "  .colab-df-quickchart {\n",
              "      --bg-color: #E8F0FE;\n",
              "      --fill-color: #1967D2;\n",
              "      --hover-bg-color: #E2EBFA;\n",
              "      --hover-fill-color: #174EA6;\n",
              "      --disabled-fill-color: #AAA;\n",
              "      --disabled-bg-color: #DDD;\n",
              "  }\n",
              "\n",
              "  [theme=dark] .colab-df-quickchart {\n",
              "      --bg-color: #3B4455;\n",
              "      --fill-color: #D2E3FC;\n",
              "      --hover-bg-color: #434B5C;\n",
              "      --hover-fill-color: #FFFFFF;\n",
              "      --disabled-bg-color: #3B4455;\n",
              "      --disabled-fill-color: #666;\n",
              "  }\n",
              "\n",
              "  .colab-df-quickchart {\n",
              "    background-color: var(--bg-color);\n",
              "    border: none;\n",
              "    border-radius: 50%;\n",
              "    cursor: pointer;\n",
              "    display: none;\n",
              "    fill: var(--fill-color);\n",
              "    height: 32px;\n",
              "    padding: 0;\n",
              "    width: 32px;\n",
              "  }\n",
              "\n",
              "  .colab-df-quickchart:hover {\n",
              "    background-color: var(--hover-bg-color);\n",
              "    box-shadow: 0 1px 2px rgba(60, 64, 67, 0.3), 0 1px 3px 1px rgba(60, 64, 67, 0.15);\n",
              "    fill: var(--button-hover-fill-color);\n",
              "  }\n",
              "\n",
              "  .colab-df-quickchart-complete:disabled,\n",
              "  .colab-df-quickchart-complete:disabled:hover {\n",
              "    background-color: var(--disabled-bg-color);\n",
              "    fill: var(--disabled-fill-color);\n",
              "    box-shadow: none;\n",
              "  }\n",
              "\n",
              "  .colab-df-spinner {\n",
              "    border: 2px solid var(--fill-color);\n",
              "    border-color: transparent;\n",
              "    border-bottom-color: var(--fill-color);\n",
              "    animation:\n",
              "      spin 1s steps(1) infinite;\n",
              "  }\n",
              "\n",
              "  @keyframes spin {\n",
              "    0% {\n",
              "      border-color: transparent;\n",
              "      border-bottom-color: var(--fill-color);\n",
              "      border-left-color: var(--fill-color);\n",
              "    }\n",
              "    20% {\n",
              "      border-color: transparent;\n",
              "      border-left-color: var(--fill-color);\n",
              "      border-top-color: var(--fill-color);\n",
              "    }\n",
              "    30% {\n",
              "      border-color: transparent;\n",
              "      border-left-color: var(--fill-color);\n",
              "      border-top-color: var(--fill-color);\n",
              "      border-right-color: var(--fill-color);\n",
              "    }\n",
              "    40% {\n",
              "      border-color: transparent;\n",
              "      border-right-color: var(--fill-color);\n",
              "      border-top-color: var(--fill-color);\n",
              "    }\n",
              "    60% {\n",
              "      border-color: transparent;\n",
              "      border-right-color: var(--fill-color);\n",
              "    }\n",
              "    80% {\n",
              "      border-color: transparent;\n",
              "      border-right-color: var(--fill-color);\n",
              "      border-bottom-color: var(--fill-color);\n",
              "    }\n",
              "    90% {\n",
              "      border-color: transparent;\n",
              "      border-bottom-color: var(--fill-color);\n",
              "    }\n",
              "  }\n",
              "</style>\n",
              "\n",
              "      <script>\n",
              "        async function quickchart(key) {\n",
              "          const quickchartButtonEl =\n",
              "            document.querySelector('#' + key + ' button');\n",
              "          quickchartButtonEl.disabled = true;  // To prevent multiple clicks.\n",
              "          quickchartButtonEl.classList.add('colab-df-spinner');\n",
              "          try {\n",
              "            const charts = await google.colab.kernel.invokeFunction(\n",
              "                'suggestCharts', [key], {});\n",
              "          } catch (error) {\n",
              "            console.error('Error during call to suggestCharts:', error);\n",
              "          }\n",
              "          quickchartButtonEl.classList.remove('colab-df-spinner');\n",
              "          quickchartButtonEl.classList.add('colab-df-quickchart-complete');\n",
              "        }\n",
              "        (() => {\n",
              "          let quickchartButtonEl =\n",
              "            document.querySelector('#df-685e0208-6114-4a3a-947a-23902329d7bc button');\n",
              "          quickchartButtonEl.style.display =\n",
              "            google.colab.kernel.accessAllowed ? 'block' : 'none';\n",
              "        })();\n",
              "      </script>\n",
              "    </div>\n",
              "\n",
              "    </div>\n",
              "  </div>\n"
            ],
            "text/plain": [
              "   Pregnancies  Glucose  BloodPressure  SkinThickness  Insulin   BMI  \\\n",
              "0            6      148             72             35        0  33.6   \n",
              "1            1       85             66             29        0  26.6   \n",
              "2            8      183             64              0        0  23.3   \n",
              "3            1       89             66             23       94  28.1   \n",
              "4            0      137             40             35      168  43.1   \n",
              "\n",
              "   DiabetesPedigreeFunction  Age  Outcome  \n",
              "0                     0.627   50        1  \n",
              "1                     0.351   31        0  \n",
              "2                     0.672   32        1  \n",
              "3                     0.167   21        0  \n",
              "4                     2.288   33        1  "
            ]
          },
          "execution_count": 1,
          "metadata": {},
          "output_type": "execute_result"
        }
      ],
      "source": [
        "# 4. Preparación y división de los datos\n",
        "import pandas as pd\n",
        "import numpy as np\n",
        "import matplotlib.pyplot as plt\n",
        "import seaborn as sns\n",
        "from sklearn.model_selection import train_test_split\n",
        "from sklearn.preprocessing import StandardScaler\n",
        "\n",
        "# Cargar el dataset\n",
        "url = 'https://raw.githubusercontent.com/plotly/datasets/master/diabetes.csv'\n",
        "df = pd.read_csv(url)\n",
        "df.head()"
      ]
    },
    {
      "cell_type": "markdown",
      "id": "HqtivzwEEJZ9",
      "metadata": {
        "id": "HqtivzwEEJZ9"
      },
      "source": [
        "## Descripción del Dataset\n",
        "\n",
        "Este dataset proviene del National Institute of Diabetes and Digestive and Kidney Diseases y tiene como objetivo predecir la aparición de diabetes tipo 2 en mujeres Pima mayores de 21 años, a partir de diversas mediciones clínicas.\n",
        "\n",
        "### Características del dataset\n",
        "\n",
        "- Cantidad de registros: 768\n",
        "- Cantidad de variables: 9 columnas (8 variables predictoras y 1 variable objetivo)\n",
        "\n",
        "### Variables\n",
        "\n",
        "| Variable                   | Descripción                                                                 | Tipo                   |\n",
        "|----------------------------|-----------------------------------------------------------------------------|------------------------|\n",
        "| Pregnancies                | Número de veces que la paciente ha estado embarazada                        | Numérica (entero)      |\n",
        "| Glucose                   | Concentración de glucosa en plasma 2 horas después de una prueba oral       | Numérica               |\n",
        "| BloodPressure              | Presión arterial diastólica (mm Hg)                                         | Numérica               |\n",
        "| SkinThickness              | Espesor del pliegue cutáneo del tríceps (mm)                                | Numérica               |\n",
        "| Insulin                    | Insulina sérica en 2 horas (mu U/ml)                                        | Numérica               |\n",
        "| BMI                        | Índice de masa corporal (peso en kg / (altura en m)^2)                      | Numérica               |\n",
        "| DiabetesPedigreeFunction   | Función de pedigrí (riesgo hereditario de diabetes)                         | Numérica               |\n",
        "| Age                        | Edad de la paciente (en años)                                               | Numérica               |\n",
        "| Outcome                    | Resultado: 0 = No diabética, 1 = Diabética                                  | Categórica binaria     |\n",
        "\n",
        "### Objetivo del análisis\n",
        "\n",
        "El objetivo es construir un modelo de clasificación que permita predecir la variable `Outcome` (si una paciente tiene o no diabetes) en función de las variables clínicas y demográficas provistas.\n"
      ]
    },
    {
      "cell_type": "markdown",
      "id": "4kLmevlJExtg",
      "metadata": {
        "id": "4kLmevlJExtg"
      },
      "source": [
        "## Análisis Exploratorio de Variables\n",
        "\n",
        "A continuación se presentan distintos gráficos utilizados para analizar la distribución de las variables y sus posibles relaciones.\n",
        "\n",
        "### Histogramas de variables individuales\n",
        "\n",
        "1. **Pregnancies**: La mayoría de las pacientes ha tenido entre 0 y 6 embarazos. La distribución es sesgada a la derecha, con pocos casos de más de 10 embarazos.\n",
        "\n",
        "2. **Glucose**: La glucosa presenta una distribución aproximadamente normal, con un leve sesgo a la derecha. Se observa una concentración importante de valores entre 100 y 150.\n",
        "\n",
        "3. **BloodPressure**: La presión arterial diastólica también muestra una distribución algo normal, aunque con valores atípicos y una leve acumulación entre 60 y 80 mm Hg.\n",
        "\n",
        "4. **SkinThickness**: Se observa una distribución sesgada, con un alto número de valores en 0, lo que podría indicar datos faltantes codificados como cero.\n",
        "\n",
        "### Gráficos de dispersión entre variables\n",
        "\n",
        "5. **Pregnancies vs Glucose**: No se observa una relación lineal clara entre la cantidad de embarazos y el nivel de glucosa, aunque existen algunos valores extremos.\n",
        "\n",
        "6. **Glucose vs BloodPressure**: Se aprecia una dispersión amplia, sin una correlación fuerte entre ambas variables. Sin embargo, podría explorarse si existen subgrupos con valores altos de glucosa y presión.\n",
        "\n",
        "7. **BloodPressure vs SkinThickness**: La relación entre estas dos variables también es débil, aunque es evidente la presencia de valores extremos y posibles outliers.\n",
        "\n",
        "8. **SkinThickness vs Insulin**: Se observa una tendencia ascendente leve. A mayor espesor de piel, parece haber una mayor cantidad de insulina, lo que podría sugerir una relación fisiológica.\n",
        "\n",
        "### Gráficos de línea por índice\n",
        "\n",
        "9. **Series por índice para cada variable (Pregnancies, Glucose, BloodPressure, SkinThickness)**: Estos gráficos permiten observar la variación de cada variable a lo largo del conjunto de datos. Se identifican patrones de dispersión y la presencia de valores extremos, como picos en glucosa o presión arterial.\n",
        "\n",
        "### Conclusión preliminar\n",
        "\n",
        "El análisis exploratorio muestra que algunas variables presentan posibles valores atípicos o nulos (por ejemplo, SkinThickness e Insulin con ceros). Además, no se detectan correlaciones fuertes entre pares de variables, lo que justifica la necesidad de técnicas multivariadas y modelos no lineales, como un Perceptrón Multicapa, para capturar relaciones complejas en los datos.\n"
      ]
    },
    {
      "cell_type": "code",
      "execution_count": null,
      "id": "d7a33c4f",
      "metadata": {
        "id": "d7a33c4f"
      },
      "outputs": [],
      "source": [
        "# Reemplazar ceros en columnas clínicas por NaN y luego imputar con la media\n",
        "cols_invalidas = ['Glucose', 'BloodPressure', 'SkinThickness', 'Insulin', 'BMI']\n",
        "df[cols_invalidas] = df[cols_invalidas].replace(0, np.nan)\n",
        "df.fillna(df.mean(), inplace=True)\n",
        "\n",
        "# Dividir en variables X e y\n",
        "X = df.drop('Outcome', axis=1)\n",
        "y = df['Outcome']\n",
        "\n",
        "# Dividir en train y test\n",
        "X_train, X_test, y_train, y_test = train_test_split(X, y, test_size=0.2, random_state=42, stratify=y)\n",
        "\n",
        "# Normalizar los datos\n",
        "scaler = StandardScaler()\n",
        "X_train_scaled = scaler.fit_transform(X_train)\n",
        "X_test_scaled = scaler.transform(X_test)"
      ]
    },
    {
      "cell_type": "markdown",
      "id": "6DCTVfMGGobC",
      "metadata": {
        "id": "6DCTVfMGGobC"
      },
      "source": [
        "## Preparación y División del Dataset\n",
        "\n",
        "En esta sección se lleva a cabo la limpieza, transformación y preparación del dataset para el entrenamiento del modelo de clasificación.\n",
        "\n",
        "### Reemplazo de valores inválidos\n",
        "En varias columnas clínicas, como `Glucose`, `BloodPressure`, `SkinThickness`, `Insulin` y `BMI`, aparecen valores iguales a cero (`0`), los cuales no son posibles en un contexto fisiológico real y se consideran datos faltantes o inválidos.\n",
        "\n",
        "Para solucionar esto:\n",
        "1. Se reemplazan los ceros por valores nulos (`NaN`).\n",
        "2. Se imputan estos valores nulos utilizando la **media de cada columna**, preservando la distribución de los datos sin eliminar filas.\n",
        "\n",
        "```python\n",
        "cols_invalidas = ['Glucose', 'BloodPressure', 'SkinThickness', 'Insulin', 'BMI']\n",
        "df[cols_invalidas] = df[cols_invalidas].replace(0, np.nan)\n",
        "df.fillna(df.mean(), inplace=True)\n"
      ]
    },
    {
      "cell_type": "markdown",
      "id": "ZS1rfo_EHVQV",
      "metadata": {
        "id": "ZS1rfo_EHVQV"
      },
      "source": [
        "### División en variables predictoras y variable objetivo\n",
        "\n",
        "El dataset se separa en:\n",
        "\n",
        "- `X`: conjunto de variables predictoras, que contiene todas las columnas excepto `Outcome`.\n",
        "- `y`: variable objetivo, que corresponde a la columna `Outcome` (0 = No diabética, 1 = Diabética).\n",
        "\n",
        "```python\n",
        "X = df.drop('Outcome', axis=1)\n",
        "y = df['Outcome']\n"
      ]
    },
    {
      "cell_type": "markdown",
      "id": "DEY8aLi0HrZ3",
      "metadata": {
        "id": "DEY8aLi0HrZ3"
      },
      "source": [
        "### División en conjunto de entrenamiento y prueba\n",
        "\n",
        "Para evaluar el rendimiento del modelo, el dataset se divide en:\n",
        "\n",
        "- **Conjunto de entrenamiento (80%)**: usado para entrenar el modelo.\n",
        "- **Conjunto de prueba (20%)**: usado para evaluar el modelo.\n",
        "\n",
        "La división se realiza de forma **estratificada** para mantener la proporción original de las clases en ambos subconjuntos. Además, se utiliza una semilla (`random_state=42`) para asegurar la reproducibilidad.\n",
        "\n",
        "```python\n",
        "X_train, X_test, y_train, y_test = train_test_split(\n",
        "    X, y, test_size=0.2, random_state=42, stratify=y\n",
        ")\n"
      ]
    },
    {
      "cell_type": "markdown",
      "id": "lzQXOGuJJQSD",
      "metadata": {
        "id": "lzQXOGuJJQSD"
      },
      "source": [
        "### Normalización de los datos\n",
        "\n",
        "Se aplica la normalización estándar utilizando `StandardScaler`:\n",
        "\n",
        "- Se ajustan los datos de entrenamiento (`fit_transform`) para que cada variable tenga **media cero y desviación estándar uno**.\n",
        "- Se transforma el conjunto de prueba (`transform`) utilizando los mismos parámetros del entrenamiento, garantizando que ambos conjuntos estén en la misma escala.\n",
        "\n",
        "```python\n",
        "scaler = StandardScaler()\n",
        "X_train_scaled = scaler.fit_transform(X_train)\n",
        "X_test_scaled = scaler.transform(X_test)\n"
      ]
    },
    {
      "cell_type": "markdown",
      "id": "fb6be376",
      "metadata": {
        "id": "fb6be376"
      },
      "source": [
        "## 5. Arquitectura del modelo MLP\n",
        "Se construirán dos modelos de Perceptrón Multicapa (MLP):\n",
        "- Uno utilizando `scikit-learn`\n",
        "- Otro con `Keras`, incorporando una técnica adicional de regularización\n",
        "\n",
        "Ambos modelos serán entrenados con los mismos datos, y se comparará su desempeño en el conjunto de prueba."
      ]
    },
    {
      "cell_type": "code",
      "execution_count": null,
      "id": "61cf84fa",
      "metadata": {
        "colab": {
          "base_uri": "https://localhost:8080/",
          "height": 623
        },
        "id": "61cf84fa",
        "outputId": "57b6aa20-5359-457b-d3ed-9ecd395a0569"
      },
      "outputs": [
        {
          "name": "stdout",
          "output_type": "stream",
          "text": [
            "              precision    recall  f1-score   support\n",
            "\n",
            "           0       0.81      0.79      0.80       100\n",
            "           1       0.62      0.65      0.64        54\n",
            "\n",
            "    accuracy                           0.74       154\n",
            "   macro avg       0.72      0.72      0.72       154\n",
            "weighted avg       0.74      0.74      0.74       154\n",
            "\n"
          ]
        },
        {
          "data": {
            "text/plain": [
              "<sklearn.metrics._plot.confusion_matrix.ConfusionMatrixDisplay at 0x780f2370e110>"
            ]
          },
          "execution_count": 3,
          "metadata": {},
          "output_type": "execute_result"
        },
        {
          "data": {
            "image/png": "[encoded data removed]",
            "text/plain": [
              "<Figure size 640x480 with 2 Axes>"
            ]
          },
          "metadata": {},
          "output_type": "display_data"
        }
      ],
      "source": [
        "# MLP con Scikit-learn\n",
        "from sklearn.neural_network import MLPClassifier\n",
        "from sklearn.metrics import classification_report, confusion_matrix, ConfusionMatrixDisplay\n",
        "\n",
        "mlp_sklearn = MLPClassifier(hidden_layer_sizes=(16, 8), max_iter=500, random_state=42)\n",
        "mlp_sklearn.fit(X_train_scaled, y_train)\n",
        "\n",
        "# Predicción y evaluación\n",
        "y_pred_sklearn = mlp_sklearn.predict(X_test_scaled)\n",
        "print(classification_report(y_test, y_pred_sklearn))\n",
        "\n",
        "# Matriz de confusión\n",
        "ConfusionMatrixDisplay.from_estimator(mlp_sklearn, X_test_scaled, y_test)"
      ]
    },
    {
      "cell_type": "markdown",
      "id": "jNL75yeoKUl3",
      "metadata": {
        "id": "jNL75yeoKUl3"
      },
      "source": [
        "### Evaluación del MLP con Scikit-learn\n",
        "\n",
        "Una vez entrenado el modelo `MLPClassifier`, se realiza la predicción sobre el conjunto de prueba y se evalúa su rendimiento utilizando métricas estándar y la matriz de confusión.\n",
        "\n",
        "#### Reporte de clasificación\n",
        "\n",
        "El reporte incluye métricas clave para cada clase:\n",
        "\n",
        "- **Precisión (precision)**: proporción de verdaderos positivos entre los casos predichos como positivos.\n",
        "- **Recall**: proporción de verdaderos positivos entre los casos realmente positivos.\n",
        "- **F1-score**: media armónica entre precisión y recall.\n",
        "- **Support**: número de muestras reales por clase.\n",
        "\n",
        "Resultados obtenidos:\n",
        "\n",
        "| Clase | Precision | Recall | F1-score | Soporte |\n",
        "|-------|-----------|--------|----------|---------|\n",
        "| 0 (No diabética) | 0.81 | 0.79 | 0.80 | 100 |\n",
        "| 1 (Diabética)    | 0.62 | 0.65 | 0.64 |  54 |\n",
        "\n",
        "- **Accuracy global**: 0.74 (74%)\n",
        "- **Promedios macro y ponderado**: 0.72–0.74\n",
        "\n",
        "Esto indica que el modelo tiene un desempeño razonable, con mayor efectividad al clasificar correctamente a pacientes no diabéticas (clase 0), y una leve disminución de rendimiento al predecir la clase 1 (diabéticas), posiblemente debido al desbalance de clases.\n",
        "\n",
        "#### Matriz de confusión\n",
        "\n",
        "La matriz de confusión permite visualizar los verdaderos positivos, falsos positivos, verdaderos negativos y falsos negativos:\n",
        "\n"
      ]
    },
    {
      "cell_type": "markdown",
      "id": "uCtQQLzMKf5e",
      "metadata": {
        "id": "uCtQQLzMKf5e"
      },
      "source": [
        "\n",
        "\n",
        "|               | Predicho 0 | Predicho 1 |\n",
        "|---------------|------------|------------|\n",
        "| Real 0        |     79     |     21     |\n",
        "| Real 1        |     19     |     35     |\n",
        "\n"
      ]
    },
    {
      "cell_type": "markdown",
      "id": "doKOKogSNuWy",
      "metadata": {
        "id": "doKOKogSNuWy"
      },
      "source": [
        "\n",
        "- El modelo acertó en **79 casos de clase 0** y **35 casos de clase 1**.\n",
        "- Cometió **21 falsos positivos** (predijo 1 cuando era 0) y **19 falsos negativos** (predijo 0 cuando era 1).\n",
        "\n",
        "La visualización confirma que el modelo es más conservador al predecir la clase positiva (1), y muestra un rendimiento aceptable pero mejorable, especialmente en la detección de pacientes diabéticas.\n",
        "\n",
        "Este análisis sugiere que podrían aplicarse técnicas de mejora como balanceo de clases, ajuste de hiperparámetros o regularización para optimizar el desempeño.\n"
      ]
    },
    {
      "cell_type": "code",
      "execution_count": null,
      "id": "52cca008",
      "metadata": {
        "colab": {
          "base_uri": "https://localhost:8080/"
        },
        "id": "52cca008",
        "outputId": "cdc98258-861a-4be6-cfc0-8b478d26a278"
      },
      "outputs": [
        {
          "name": "stderr",
          "output_type": "stream",
          "text": [
            "/usr/local/lib/python3.11/dist-packages/keras/src/layers/core/dense.py:87: UserWarning: Do not pass an `input_shape`/`input_dim` argument to a layer. When using Sequential models, prefer using an `Input(shape)` object as the first layer in the model instead.\n",
            "  super().__init__(activity_regularizer=activity_regularizer, **kwargs)\n"
          ]
        },
        {
          "name": "stdout",
          "output_type": "stream",
          "text": [
            "\u001b[1m5/5\u001b[0m \u001b[32m━━━━━━━━━━━━━━━━━━━━\u001b[0m\u001b[37m\u001b[0m \u001b[1m0s\u001b[0m 8ms/step - accuracy: 0.7112 - loss: 0.5271 \n",
            "Accuracy con Keras: 0.7338\n"
          ]
        }
      ],
      "source": [
        "# MLP con Keras y Dropout\n",
        "import tensorflow as tf\n",
        "from tensorflow.keras.models import Sequential\n",
        "from tensorflow.keras.layers import Dense, Dropout\n",
        "from tensorflow.keras.utils import to_categorical\n",
        "\n",
        "# Convertir etiquetas a formato categórico (opcional en este caso)\n",
        "y_train_cat = to_categorical(y_train)\n",
        "y_test_cat = to_categorical(y_test)\n",
        "\n",
        "model = Sequential()\n",
        "model.add(Dense(16, activation='relu', input_shape=(X_train_scaled.shape[1],)))\n",
        "model.add(Dropout(0.3))\n",
        "model.add(Dense(8, activation='relu'))\n",
        "model.add(Dense(2, activation='softmax'))\n",
        "\n",
        "model.compile(optimizer='adam', loss='categorical_crossentropy', metrics=['accuracy'])\n",
        "\n",
        "# Entrenamiento\n",
        "history = model.fit(X_train_scaled, y_train_cat, epochs=100, batch_size=32, validation_split=0.2, verbose=0)\n",
        "\n",
        "# Evaluación\n",
        "loss, accuracy = model.evaluate(X_test_scaled, y_test_cat)\n",
        "print(f'Accuracy con Keras: {accuracy:.4f}')"
      ]
    },
    {
      "cell_type": "markdown",
      "id": "a4KMC3tJOqgE",
      "metadata": {
        "id": "a4KMC3tJOqgE"
      },
      "source": [
        "### MLP con Keras y regularización por Dropout\n",
        "\n",
        "En esta sección se implementa un modelo de Perceptrón Multicapa (MLP) utilizando la biblioteca `Keras`, incorporando una técnica de regularización llamada `Dropout` para reducir el riesgo de sobreajuste.\n",
        "\n",
        "#### Preparación de las etiquetas\n",
        "\n",
        "Se convierte la variable objetivo `y` al formato categórico utilizando `to_categorical`, ya que el modelo emplea la función de activación `softmax` en la última capa y la pérdida `categorical_crossentropy`.\n",
        "\n",
        "```python\n",
        "y_train_cat = to_categorical(y_train)\n",
        "y_test_cat = to_categorical(y_test)\n"
      ]
    },
    {
      "cell_type": "markdown",
      "id": "DVcxjNe7OtkJ",
      "metadata": {
        "id": "DVcxjNe7OtkJ"
      },
      "source": [
        "### Definición del modelo\n",
        "\n",
        "Se define un modelo secuencial con la siguiente arquitectura:\n",
        "\n",
        "- Capa densa con 16 neuronas y función de activación `relu`.\n",
        "- Capa `Dropout` con tasa de 0.3 (elimina aleatoriamente el 30% de las conexiones durante el entrenamiento).\n",
        "- Capa densa con 8 neuronas y activación `relu`.\n",
        "- Capa de salida con 2 neuronas (para clasificación binaria) y activación `softmax`.\n",
        "\n",
        "**Nota**: Al definir la primera capa con el parámetro `input_shape`, aparece una advertencia recomendando utilizar `Input(shape=...)`. Aunque el modelo funciona, se sugiere modificarlo para seguir buenas prácticas.\n",
        "\n",
        "```python\n",
        "model = Sequential()\n",
        "model.add(Dense(16, activation='relu', input_shape=(X_train_scaled.shape[1],)))\n",
        "model.add(Dropout(0.3))\n",
        "model.add(Dense(8, activation='relu'))\n",
        "model.add(Dense(2, activation='softmax'))\n"
      ]
    },
    {
      "cell_type": "markdown",
      "id": "GD0sPJuTPRfI",
      "metadata": {
        "id": "GD0sPJuTPRfI"
      },
      "source": [
        "### Compilación y entrenamiento\n",
        "\n",
        "El modelo se compila utilizando:\n",
        "\n",
        "- Optimizador: `adam`\n",
        "- Función de pérdida: `categorical_crossentropy`\n",
        "- Métrica: `accuracy`\n",
        "\n",
        "Se entrena durante 100 épocas, con un tamaño de lote de 32 y un 20% de los datos de entrenamiento utilizados como validación.\n",
        "\n",
        "```python\n",
        "model.compile(optimizer='adam', loss='categorical_crossentropy', metrics=['accuracy'])\n",
        "history = model.fit(X_train_scaled, y_train_cat, epochs=100, batch_size=32, validation_split=0.2)\n"
      ]
    },
    {
      "cell_type": "markdown",
      "id": "R0rQpVp9P9Hr",
      "metadata": {
        "id": "R0rQpVp9P9Hr"
      },
      "source": [
        "### Evaluación del modelo\n",
        "\n",
        "El modelo se evalúa sobre el conjunto de prueba. Se obtiene:\n",
        "\n",
        "- **Accuracy**: 0.7338\n",
        "- **Loss**: 0.5271\n",
        "\n",
        "```python\n",
        "loss, accuracy = model.evaluate(X_test_scaled, y_test_cat)\n",
        "print(f'Accuracy con Keras: {accuracy:.4f}')\n"
      ]
    },
    {
      "cell_type": "markdown",
      "id": "f0bdd7d3",
      "metadata": {
        "id": "f0bdd7d3"
      },
      "source": [
        "## 6. Visualizaciones\n",
        "A continuación se grafican la evolución de la precisión y la función de pérdida durante el entrenamiento del modelo en Keras. Esto permite evaluar visualmente la convergencia del modelo y detectar posibles problemas como sobreajuste o subajuste."
      ]
    },
    {
      "cell_type": "code",
      "execution_count": null,
      "id": "7344afd1",
      "metadata": {
        "colab": {
          "base_uri": "https://localhost:8080/",
          "height": 407
        },
        "id": "7344afd1",
        "outputId": "442429a2-3fbe-4647-d4dc-6f993440a86e"
      },
      "outputs": [
        {
          "data": {
            "image/png": "[encoded data removed]",
            "text/plain": [
              "<Figure size 1000x400 with 2 Axes>"
            ]
          },
          "metadata": {},
          "output_type": "display_data"
        }
      ],
      "source": [
        "# Visualización del entrenamiento (Keras)\n",
        "plt.figure(figsize=(10, 4))\n",
        "plt.subplot(1, 2, 1)\n",
        "plt.plot(history.history['accuracy'], label='Entrenamiento')\n",
        "plt.plot(history.history['val_accuracy'], label='Validación')\n",
        "plt.title('Precisión durante el entrenamiento')\n",
        "plt.xlabel('Épocas')\n",
        "plt.ylabel('Precisión')\n",
        "plt.legend()\n",
        "\n",
        "plt.subplot(1, 2, 2)\n",
        "plt.plot(history.history['loss'], label='Entrenamiento')\n",
        "plt.plot(history.history['val_loss'], label='Validación')\n",
        "plt.title('Pérdida durante el entrenamiento')\n",
        "plt.xlabel('Épocas')\n",
        "plt.ylabel('Pérdida')\n",
        "plt.legend()\n",
        "plt.tight_layout()\n",
        "plt.show()"
      ]
    },
    {
      "cell_type": "markdown",
      "id": "_oo_19CtSqTk",
      "metadata": {
        "id": "_oo_19CtSqTk"
      },
      "source": [
        "### Análisis detallado de las métricas de entrenamiento y validación\n",
        "\n",
        "Durante el entrenamiento del modelo con Keras, se registraron las métricas de precisión (`accuracy`) y pérdida (`loss`) tanto en el conjunto de entrenamiento como en el conjunto de validación. Estas métricas se visualizan en dos gráficos que permiten evaluar la evolución del aprendizaje del modelo a lo largo de las épocas.\n",
        "\n",
        "#### 1. Precisión durante el entrenamiento\n",
        "\n",
        "Este gráfico muestra la evolución de la **precisión** a medida que avanza el entrenamiento:\n",
        "\n",
        "- La curva azul representa la **precisión sobre el conjunto de entrenamiento**.\n",
        "- La curva naranja representa la **precisión sobre el conjunto de validación**.\n",
        "\n",
        "**Interpretación**:\n",
        "\n",
        "- Ambas curvas muestran una mejora rápida en las primeras 20 épocas, lo que indica que el modelo está aprendiendo correctamente desde el inicio.\n",
        "- A partir de la época 20, ambas curvas se estabilizan en torno al 0.80, sin grandes oscilaciones ni separaciones significativas.\n",
        "- La cercanía entre las curvas indica que el modelo **generaliza bien** y **no está sobreajustando** a los datos de entrenamiento.\n",
        "- El comportamiento estable hasta la época 100 sugiere que el número de épocas es adecuado y que el modelo no presenta señales de **overfitting** (sobreajuste) ni **underfitting** (subajuste).\n",
        "\n",
        "#### 2. Pérdida durante el entrenamiento\n",
        "\n",
        "Este gráfico muestra la evolución de la **función de pérdida (`loss`)** a lo largo del entrenamiento:\n",
        "\n",
        "- La curva azul representa la **pérdida en los datos de entrenamiento**.\n",
        "- La curva naranja representa la **pérdida en los datos de validación**.\n",
        "\n",
        "**Interpretación**:\n",
        "\n",
        "- Ambas curvas presentan una fuerte caída en las primeras épocas, lo que indica que el modelo está **reduciendo rápidamente el error**.\n",
        "- A partir de la época 20, la pérdida continúa descendiendo, pero de forma más lenta y estable\n"
      ]
    },
    {
      "cell_type": "markdown",
      "id": "_2B9unzFTNyD",
      "metadata": {
        "id": "_2B9unzFTNyD"
      },
      "source": [
        "## 7. Conclusiones\n",
        "\n",
        "Este proyecto tuvo como objetivo aplicar redes neuronales de tipo Perceptrón Multicapa (MLP) para resolver un problema de clasificación binaria, utilizando un conjunto de datos clínicos de pacientes propensos a diabetes tipo 2. A lo largo del trabajo, se abordaron las etapas de análisis exploratorio, limpieza, normalización, entrenamiento de modelos y evaluación comparativa.\n",
        "\n",
        "Se implementaron dos modelos principales:\n",
        "\n",
        "- **MLP con Scikit-learn**: permitió una implementación rápida, eficiente y con buenos resultados sin necesidad de mayor configuración. Alcanzó un **accuracy del 74%** y mostró un buen desempeño general, especialmente al clasificar correctamente a pacientes no diabéticos.\n",
        "  \n",
        "- **MLP con Keras y regularización con Dropout**: ofreció mayor flexibilidad en la definición de la arquitectura y la posibilidad de aplicar técnicas modernas de regularización. Alcanzó una **precisión del 73.38%**, con una función de pérdida final de **0.5271**, y mostró buen comportamiento de generalización a lo largo del entrenamiento.\n",
        "\n",
        "### Aspectos clave observados\n",
        "\n",
        "- La **normalización previa** de los datos resultó esencial para garantizar un entrenamiento eficiente de las redes neuronales.\n",
        "- El tratamiento de **valores faltantes o inválidos**, mediante imputación con la media, fue fundamental para evitar sesgos.\n",
        "- La **división estratificada** del conjunto de datos permitió mantener una proporción adecuada de clases.\n",
        "- La visualización de métricas de entrenamiento y validación fue clave para **detectar problemas de sobreajuste o subajuste**, los cuales no se observaron en este caso.\n",
        "\n",
        "Ambos modelos poseen buena capacidad de predecir si un paciente es o no diabètico, aunque es necesario maximizar el recall, ya que, en aquellos casos donde el paciente sea diabético y nuestro sistema prediga que no lo es, no se va a asignar un tratamiento perpetuando el riesgos a su salud. Una alternativa sería probar modelos especializados como XGBoost que permiten un control más fino del balance entre precision y recall mediante la manipulación de sus hiperparámetros.\n"
      ]
    }
  ],
  "metadata": {
    "colab": {
      "provenance": []
    },
    "kernelspec": {
      "display_name": "Python 3",
      "name": "python3"
    },
    "language_info": {
      "name": "python"
    }
  },
  "nbformat": 4,
  "nbformat_minor": 5
}
